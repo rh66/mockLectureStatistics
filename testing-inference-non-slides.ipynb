{
 "cells": [
  {
   "cell_type": "code",
   "execution_count": null,
   "metadata": {
    "collapsed": true
   },
   "outputs": [],
   "source": []
  },
  {
   "cell_type": "markdown",
   "metadata": {
    "slideshow": {
     "slide_type": "notes"
    }
   },
   "source": [
    "<h1><center> Statistical Inference </center></h1>\n",
    "\n",
    "* <h2>Hypothesis testing:  t-test, p-value and precision-recall</h2>\n",
    "\n",
    "* <h2>Bayesian posterior inference: why priors, and why conjugate priors</h2>\n",
    "\n",
    "<h3>Statical Inference = {</h3>\n",
    "><p><h3><span style=\"color:red\">classical method</span> -- based strictly on random sampling data;</h3></p> \n",
    "><p><h3><font color='#FF0000'>Bayesian method</font> -- prior + sample data }</h3></p>\n",
    "\n",
    "\n",
    "<br>\n",
    "<br>\n",
    "<p><font color='#641E16'><i><h3>Rong Huang, 5/30/2017</h3><i></font></p>"
   ]
  },
  {
   "cell_type": "code",
   "execution_count": null,
   "metadata": {
    "collapsed": true
   },
   "outputs": [],
   "source": []
  },
  {
   "cell_type": "markdown",
   "metadata": {
    "slideshow": {
     "slide_type": "notes"
    }
   },
   "source": [
    " **Hypothesis testing: t-test, p-value, precision-recall** \n",
    " \n",
    "<h3><font color='#FF0000'>Purpose:</font> To evaluate hypothesis made for population, based on sample data</h3>\n",
    "\n",
    "* **Population**\n",
    "* **Sample; Random Sampling, Random variable X={$X_1, X_2, ..., X_n$}**\n",
    "* **Model; Estimation of sample parameters, $\\bar{X}$**\n",
    "* **Variance of Estimator**\n",
    "     - <font color='#0000FFF'>  For example: mean weight, $\\bar{X}$, of kids age 10 (population), $\\bar{X} = 50 \\pm ??$ .</font>\n",
    "     - <font color=purple>$\\bar{X}$ normaly is not the actual mean of population, $\\mu$</font>\n",
    "\n",
    "* <h4>$\\bar{X}$ also has its own distribution</h4>\n",
    "    - <font color=purple>P($\\bar{X_L}\\lt\\bar{X}\\lt\\bar{X_U}) = 1 - \\alpha$\n",
    "    - <font color=purple>How likely $\\bar{X}$ is $\\mu$ ? 95% sure ?</font>\n",
    "\n",
    "* **degree of confidence (such as 95%); significance level (such as 0.05)**\n",
    "* **Confidence interval ( $\\bar{X_L}\\lt\\bar{X}\\lt\\bar{X_U}$ )**"
   ]
  },
  {
   "cell_type": "code",
   "execution_count": null,
   "metadata": {
    "collapsed": true
   },
   "outputs": [],
   "source": []
  },
  {
   "cell_type": "markdown",
   "metadata": {
    "slideshow": {
     "slide_type": "slide"
    }
   },
   "source": [
    "** <font color=red>Central limit theorem:  _if repeatatively take sample_, their mean or sum distribution:</font> ** \n",
    "  - ** $n\\ge30, and \\to \\infty$: $\\bar{X} \\to N\\left(\\mu, \\frac{\\sigma}{\\sqrt{n}} \\right)$ . where $\\sigma:$ standard deviation of population . $(\\sigma^2: variance)$**\n",
    "  - ** z-statistic:  $z = \\frac{\\bar{X}-\\mu}{\\left(\\frac{\\sigma}{\\sqrt{n}}\\right)} \\longrightarrow N\\left(z;0,1\\right)$, standard normal distribution**\n",
    "  - ** $\\sigma/\\sqrt{n}$: standard error of $\\bar{X}$. (standard error of estimator = its standard deviation)**\n",
    "\n",
    "<img src=\"CLT_combine.png\" width=600 height=350 />\n",
    "\n",
    "**confidence interval: $\\bar{X}-z_{\\alpha/2}\\frac{\\sigma}{\\sqrt{n}}\\le\\mu\\le\\bar{X}+z_{\\alpha/2}\\frac{\\sigma}{\\sqrt{n}}$.         For $1-\\alpha =$ 95% $\\to$ z=1.96**"
   ]
  },
  {
   "cell_type": "code",
   "execution_count": null,
   "metadata": {
    "collapsed": true
   },
   "outputs": [],
   "source": []
  },
  {
   "cell_type": "markdown",
   "metadata": {
    "slideshow": {
     "slide_type": "slide"
    }
   },
   "source": [
    "** Reality: $\\sigma$ unknown **\n",
    "* **Well, when n very large: S ~ $\\sigma$ , where $S^2=\\frac{1}{n-1}\\sum_{i=1}^{n}(X_i - \\bar{X})^2$ .  $ (S^2: variance $; $S$: $standard$  $deviation)$**\n",
    "* **What if n not very large, but bell-shaped?**\n",
    "** t-test $\\Longrightarrow$ \n",
    "t-statistic (t-score) $t = \\frac{\\bar{X}-\\mu}{\\left(\\frac{S}{\\sqrt{n}}\\right)}$ , & t-distribution  of (n-1) degree of freedom**\n",
    " <p><img src=\"Student_t_pdf.png\" width = 300 height=300 /></p>\n",
    " ** $\\frac{S}{\\sqrt{n}}$: _estimated standard error_, or _standard error_ . Confidence interval: $\\bar{X}-z_{\\alpha/2}\\frac{S}{\\sqrt{n}}\\le\\mu\\le\\bar{X}+z_{\\alpha/2}\\frac{S}{\\sqrt{n}}$**"
   ]
  },
  {
   "cell_type": "code",
   "execution_count": null,
   "metadata": {
    "collapsed": true
   },
   "outputs": [],
   "source": []
  },
  {
   "cell_type": "markdown",
   "metadata": {
    "slideshow": {
     "slide_type": "slide"
    }
   },
   "source": [
    "**Applications of statistical inference:** \n",
    "   - **Estimations: proportion of favoring voters; everage weight of people; ...**\n",
    "   - **Hypothesis tests: Brand A product better than Brand B?  A new drug is effective?** <br />\n",
    "**hypothesis testing, among 2 controdictory hypothesis :**\n",
    "   - **H0: new drug made no difference (null hypothesis; default hypothesis)** \n",
    "   - **H2: new drug made an improvement (alternative hypothesis)**  \n",
    "   **change of 15 patients after new drug,  Is the change statistically significant?**  \n",
    "   4.3, -2.1, 2.7, 1.9, -1.1, 4.2, 13.9, -2.8, 10.5, -0.5, -2.0, 30, 28, -0.5, 19\n",
    "\n",
    " <img src=\"T_left.png\" width=270 height=250/>\n",
    "Since $\\bar{X}=5.113$, and $t_{0.05}\\frac{S}{\\sqrt{n}}=-4.343$. At 95% confident, lower bound $\\bar{X}-t_{0.05}\\frac{S}{\\sqrt{n}} =5.113-4.343$ > 0. Improved. $\\to$ reject H0 <br />\n",
    "Or, t-statistic=-2.0732 $\\to$ p-value = 0.0285 < 0.05, $\\to$ reject H0"
   ]
  },
  {
   "cell_type": "code",
   "execution_count": null,
   "metadata": {
    "collapsed": true
   },
   "outputs": [],
   "source": []
  },
  {
   "cell_type": "code",
   "execution_count": 4,
   "metadata": {
    "slideshow": {
     "slide_type": "slide"
    }
   },
   "outputs": [
    {
     "data": {
      "image/png": "[encoded data removed]",
      "text/plain": [
       "<matplotlib.figure.Figure at 0x1c330abf3c8>"
      ]
     },
     "metadata": {},
     "output_type": "display_data"
    },
    {
     "name": "stdout",
     "output_type": "stream",
     "text": [
      "X_bar  &  delt_X  are:  5.113333333333333 -4.343330827944313\n",
      "t statistic:  -2.0731968981192814\n"
     ]
    }
   ],
   "source": [
    "%matplotlib inline\n",
    "import numpy as np\n",
    "import matplotlib.pyplot as plt\n",
    "X = np.array([4.3, -2.1, 2.7, 1.9, 7.1, 4.2, 13.9, -7.8, 10.5, -0.5, 3.0, -7.0, 28, -0.5, 19])\n",
    "plt.hist(X)\n",
    "plt.show()\n",
    "X_bar = np.mean(X)\n",
    "n = 15\n",
    "S = np.std(X)*np.sqrt(n/(n-1)) # np.std is root-mean-square, not exactly std_deviation !\n",
    "t_alfa = -1.761              # https://surfstat.anu.edu.au/surfstat-home/tables/t.php\n",
    "delt_X = t_alfa*S/np.sqrt(n)\n",
    "t_score = (0-X_bar)/(S/np.sqrt(n))\n",
    "print(\"X_bar  &  delt_X  are: \", X_bar,  delt_X)\n",
    "print(\"t statistic: \", t_score)"
   ]
  },
  {
   "cell_type": "code",
   "execution_count": null,
   "metadata": {
    "collapsed": true
   },
   "outputs": [],
   "source": []
  },
  {
   "cell_type": "markdown",
   "metadata": {
    "slideshow": {
     "slide_type": "slide"
    }
   },
   "source": [
    "<h4>Quote from wikipedia:</h4>\n",
    "- <font color=red>**precision: retrieved-relevant-instances/all-retrieved-instances**</font>,  \n",
    "   - **_tp/(tp+fp)_**.   how accurate among the case being identified. \n",
    "   - **fp: type I error (false positive). Type I error $\\downarrow \\longrightarrow$ precision $\\uparrow$**\n",
    "- <font color=red>**recall: retrieved-relevant-instances/total-relevant-instances**</font>,  \n",
    "   - **_tp/(tp+fn)_**.    How likely the case can be indentified.\n",
    "   - **fn: type II error (false negative: positive idenfied as negative). type II error $\\downarrow \\longrightarrow$ precision $\\uparrow$** \n",
    "- **ideally, precision = 1, recall = 1**\n",
    "\n",
    "**For 100 people, 10 cancer:**\n",
    "- **if model identified 2 cancer, ==> precision=1, recall=0.2**\n",
    "- **If model identifed all 10 cancer, plus falsely classified 30 non-cancer cases, ==> precision=0.25, recall=1**\n",
    "\n",
    "#### For above case, $t-score\\uparrow \\longleftrightarrow p-value\\downarrow \\longleftrightarrow precision\\uparrow \\longleftrightarrow recall\\downarrow$ ####\n",
    "#### t-test, p-value also used for: estimating sample size; inferences on linear regression coefficients and prediction ###"
   ]
  },
  {
   "cell_type": "code",
   "execution_count": null,
   "metadata": {
    "collapsed": true
   },
   "outputs": [],
   "source": []
  },
  {
   "cell_type": "markdown",
   "metadata": {
    "slideshow": {
     "slide_type": "slide"
    }
   },
   "source": [
    "**Bayesian inference**\n",
    "- **Inferential statistics is not just data. It adds \"prior\" belief to the doubt of current data**\n",
    "- **Models have parameters, such as in coin flipping,  P(x)=B(x;n,p)=${n\\choose x}\\theta^x(1-\\theta)^{n-x}$**\n",
    "- **In classic method, $\\theta$ was a single value calucated from data, such as 0.5 for 5 heads, 5 tails.** \n",
    "   - **What if we have a doubt about data? _5 tosses got 4 heads? \"prior\" experience was 2-3 heads!_**\n",
    "- **How to add prior into model? Treat parameter _$\\theta$_ as prior distribution; with Bayesian inference to updata _p_ to posterior probability**"
   ]
  },
  {
   "cell_type": "code",
   "execution_count": null,
   "metadata": {
    "collapsed": true
   },
   "outputs": [],
   "source": []
  },
  {
   "cell_type": "markdown",
   "metadata": {
    "slideshow": {
     "slide_type": "slide"
    }
   },
   "source": [
    "**Bayesian inference** <br />\n",
    "**compare Bayes' rule (Bayes' theorem, Bayes' law):** Let Area($\\Omega$)=1, P(A)=Area(A), P(B)=Area(B), P(A,B)=Area(A$\\cap$B) <br />\n",
    ". P(A|B)=Area(A$\\cap$B)/Area(B)=P(A,B)/P(B).  (conditional probability) <br />\n",
    ". P(B|A)=Area(B$\\cap$A)/Area(A)=P(A,B)/P(A). <br />\n",
    ". $P(A|B) = \\frac{P(B|A)P(A)}{P(B)}$. (Bayes' rule) . P(B): Marginal distribution.  <br />\n",
    "**Bayesian inference.** Treat P(A) as the probability of model parameter P($\\theta$), then posterior probability is:\n",
    " $P(\\theta|X)=\\frac{P(X|\\theta)P(\\theta)}{P(X)}=\\frac{P(X|\\theta)P(\\theta)}{\\sum_\\theta P(X|\\theta)P(\\theta)}$.   P(x): Marginal distribution \n",
    " <img src=\"bayesRule.jpg\" width=250 height=125>\n",
    ". The likelihood function for 4 heads 1 tail flipping is: $P(X|\\theta)=\\prod P(X_i|\\theta)=\\theta^4(1-\\theta)$ <br />\n",
    ". Make assumption of prior: triangle with maximum at $\\theta=0.5$ and zero at $\\theta=$0, 1.  <br />\n",
    ". prediction of $X_i$:  $P(X_i) = \\int P(X_i|\\theta) P(\\theta)d\\theta$ . ( **not** $P(X_i)=\\underset{\\theta}{max}$ $P(X_i|\\theta)$ )"
   ]
  },
  {
   "cell_type": "code",
   "execution_count": null,
   "metadata": {
    "collapsed": true
   },
   "outputs": [],
   "source": []
  },
  {
   "cell_type": "code",
   "execution_count": 5,
   "metadata": {
    "slideshow": {
     "slide_type": "slide"
    }
   },
   "outputs": [
    {
     "data": {
      "image/png": "[encoded data removed]",
      "text/plain": [
       "<matplotlib.figure.Figure at 0x1c3318fa048>"
      ]
     },
     "metadata": {},
     "output_type": "display_data"
    },
    {
     "name": "stdout",
     "output_type": "stream",
     "text": [
      "the probability of Head next:  0.6449031171019377\n"
     ]
    }
   ],
   "source": [
    "def bayes(m, n):         # m:toss #; n: division of theta \n",
    "    theta = np.linspace(0, 1.0, n+1) \n",
    "    prior = np.zeros(theta.shape);     likely = np.zeros(theta.shape)\n",
    "    for i in range(len(prior)):\n",
    "        prior[i] = min(1.0/n/n*4*i, 1.0/n/n*4*(n-i))\n",
    "        if (i!=0)&(i!=n):\n",
    "            likely[i] = theta[i]**(0.8*m) * (1-theta[i])**(0.2*m)\n",
    "    PX_theta = likely * prior;  PX = sum(PX_theta)      # P(X)    \n",
    "    Ptheta_X = PX_theta/PX   # P(theta|X)\n",
    "    return prior, likely, Ptheta_X, theta\n",
    "prior, likely, Ptheta_X, theta = bayes(5, 10)\n",
    "plt.subplot(3,1,1); plt.plot(theta, prior, 'rx'); plt.ylabel(\"prior\")\n",
    "plt.subplot(3,1,2); plt.plot(theta, likely, 'bo'); plt.ylabel('likely')\n",
    "plt.subplot(3,1,3); plt.plot(theta, Ptheta_X, 'ks'); plt.ylabel('posterior')\n",
    "plt.xlabel(r'$\\theta$'); plt.show()\n",
    "P_head = sum(Ptheta_X * theta)    # P(H|theta)=theta\n",
    "print(\"the probability of Head next: \", P_head)  # P_head = 0.6449"
   ]
  },
  {
   "cell_type": "code",
   "execution_count": null,
   "metadata": {
    "collapsed": true
   },
   "outputs": [],
   "source": []
  },
  {
   "cell_type": "code",
   "execution_count": 39,
   "metadata": {
    "slideshow": {
     "slide_type": "slide"
    }
   },
   "outputs": [
    {
     "name": "stdout",
     "output_type": "stream",
     "text": [
      "increase data size makes clear it's a biased coin\n"
     ]
    },
    {
     "data": {
      "image/png": "[encoded data removed]",
      "text/plain": [
       "<matplotlib.figure.Figure at 0x283ddc3beb8>"
      ]
     },
     "metadata": {},
     "output_type": "display_data"
    },
    {
     "name": "stdout",
     "output_type": "stream",
     "text": [
      "the probability of Head next:  0.7931034482758619\n"
     ]
    }
   ],
   "source": [
    "print(\"increase data size makes it clear that it's a biased coin\")\n",
    "prior, likely, Ptheta_X, theta = bayes(200, 200)\n",
    "plt.subplot(3,1,1); plt.plot(theta, prior, 'rx'); plt.ylabel(\"prior\")\n",
    "plt.subplot(3,1,2); plt.plot(theta, likely, 'bo'); plt.ylabel('likely')\n",
    "plt.subplot(3,1,3); plt.plot(theta, Ptheta_X, 'ks'); plt.ylabel('posterior')\n",
    "plt.xlabel(r'$\\theta$'); plt.show()\n",
    "P_head = sum(Ptheta_X * theta)    # P(H|theta)=theta\n",
    "print(\"the probability of Head next: \", P_head)"
   ]
  },
  {
   "cell_type": "code",
   "execution_count": null,
   "metadata": {
    "collapsed": true
   },
   "outputs": [],
   "source": []
  },
  {
   "cell_type": "markdown",
   "metadata": {
    "slideshow": {
     "slide_type": "slide"
    }
   },
   "source": [
    "** <font color=red> How </font> to use it ?** \n",
    "- **Choose prior based on belief**\n",
    "- **Figure out the likelyhood function**\n",
    "- **Use Bayesian inference to calculate posterior probability**\n",
    "- **Predict the probability ....**\n",
    "\n",
    "#### <font color=red> Result </font> of using it ?####\n",
    "- **A compromise between prior and data**\n",
    "- **Little data (more prior) $\\longrightarrow$ towards prior; little prior (more data) $\\longrightarrow$ towards data**\n",
    "\n",
    "<h4><font color=red> Conjugate prior</font>, a better way to do it</h4>\n",
    "- ** In $P(\\theta|X)=\\frac{P(X|\\theta)P(\\theta)}{P(X)}=\\frac{P(X|\\theta)P(\\theta)}{\\int P(X|\\theta)P(\\theta) d\\theta}$, P($\\theta$) is called _conjugate prior for $P(X|\\theta)$_, if they have same form.** \n",
    "- ** Analytical calculations, simple and accurate **"
   ]
  },
  {
   "cell_type": "code",
   "execution_count": null,
   "metadata": {
    "collapsed": true
   },
   "outputs": [],
   "source": []
  },
  {
   "cell_type": "markdown",
   "metadata": {
    "slideshow": {
     "slide_type": "slide"
    }
   },
   "source": [
    "**For coin flipping:** <br />\n",
    " . **Likelyhood function: Bernoulli distribution $\\theta^z(1-\\theta)^N$, _z_ heads, _N_ tails** <br />\n",
    " . **Prior: Beta distribution $P(\\theta)=beta(\\theta;a,b)=\\theta^{(a-1)}(1-\\theta)^{(b-1)}/B(a,b)$, the pdf of _a_ heads _b_ tails** <br />\n",
    " . **$B(a,b)=\\int^1_0 beta(\\theta;a,b)d\\theta$, Beta function, to normalize beta** <br />\n",
    "such as: $E(H) = \\int P(H|\\theta)P(\\theta)d\\theta = a/(a+b)$, and $E(T) = \\int P(T|\\theta)P(\\theta)d\\theta = b/(a+b)$, <br />\n",
    "which can be proved with $B(a+1,b)=\\frac{a}{a+b}B(a,b)$;  and $B(a,b+1)=\\frac{b}{a+b}B(a,b)$\n",
    "<img src=\"BetaDistr.png\" width=250 heigth=250>\n",
    ". $P(\\theta|X) = \\frac{P(X|\\theta)P(\\theta)}{P(X)} = \\frac{\\theta^z(1-\\theta)^N\\theta^{(a-1)}(1-\\theta)^{(b-1)}}{B(a,b)P(X)} = \\frac{beta(\\theta;z+a-1,b+N-1)}{B(z+a,N+b)}$ <br />\n",
    "**So posterior = probability of (_z+a_) heads, and (_N+b_) tails = the prior flips + data flips !!** <br />\n",
    "**And many can be conjugate priors: poisson, normal, exponential, ... et al.** "
   ]
  }
 ],
 "metadata": {
  "kernelspec": {
   "display_name": "Python 3",
   "language": "python",
   "name": "python3"
  },
  "language_info": {
   "codemirror_mode": {
    "name": "ipython",
    "version": 3
   },
   "file_extension": ".py",
   "mimetype": "text/x-python",
   "name": "python",
   "nbconvert_exporter": "python",
   "pygments_lexer": "ipython3",
   "version": "3.5.4"
  }
 },
 "nbformat": 4,
 "nbformat_minor": 2
}
